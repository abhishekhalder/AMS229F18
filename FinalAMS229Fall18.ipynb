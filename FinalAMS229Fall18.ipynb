{
 "cells": [
  {
   "cell_type": "markdown",
   "metadata": {},
   "source": [
    "## Problem 1. (70 points) Euclidean Distance Matrix\n",
    "\n",
    "A matrix $D\\in\\mathbb{R}^{n\\times n}$ is called an Euclidean distance matrix if there exists points $x_{1}, ..., x_{n}$ in $\\mathbb{R}^{r}$ such that $D_{ij} = \\parallel x_{i} - x_{j} \\parallel_{2}^{2}$ for $i,j=1,...,n$. In many practical applications like NMR spectroscopy, one can measure pairwise distances between atoms (and hence construct matrix $D$), and would like to infer the point configuration $x_{1}, ..., x_{n}$ (which is same as determining the structure of the molecule). The dimension of the space $r$ is called the \"embedding dimension\". Assume $r < n$."
   ]
  },
  {
   "cell_type": "markdown",
   "metadata": {},
   "source": [
    "(a) **[10 points]** The matrix $D$ has some properties obvious from its definition: $D_{ii}=0$, $D_{ij}\\geq 0$, $D_{ij}=D_{ji}$, $\\sqrt{D}_{ij} + \\sqrt{D}_{jk} \\geq \\sqrt{D}_{ik}$, for all $i,j,k=1,...,n$. For $r=2$, $n=3$, give a simple example  showing that the matrix $D$ is sign-indefinite."
   ]
  },
  {
   "cell_type": "markdown",
   "metadata": {},
   "source": [
    "(b) **[10 points]** Let $X = [x_{1} \\quad x_{2} \\quad ... \\quad x_{n}] \\in \\mathbb{R}^{r\\times n}$, and $G:=X^{\\top}X$ be the associated Gram matrix. If  $\\text{diag}(G)$ denotes the column vector of the diagonal elements of $G$, then prove that\n",
    "\n",
    "$$D = \\text{diag}(G) 1^{\\top} \\: + \\: 1 (\\text{diag}(G))^{\\top} \\: - \\: 2G.$$"
   ]
  },
  {
   "cell_type": "markdown",
   "metadata": {},
   "source": [
    "(c) **[10 points]** Use part (b) to show that the Euclidean distance matrix is invariant under rotation and translation.\n",
    "\n",
    "[Hint: Consider the transformations $X \\mapsto QX$, $X \\mapsto X + a 1^{\\top}$, for an $r\\times r$ orthogonal matrix $Q$, and $a\\in\\mathbb{R}^{r}$.]"
   ]
  },
  {
   "cell_type": "markdown",
   "metadata": {},
   "source": [
    "(d) **[5 points]** Consider the $n\\times n$ matrix $K := I - \\frac{1}{n}11^{\\top}$. What is the geometric meaning of multiplying a vector in $\\mathbb{R}^{n}$ by matrix $K$?"
   ]
  },
  {
   "cell_type": "markdown",
   "metadata": {},
   "source": [
    "(e) **[10 points]** Use parts (b) and (d) to prove that $KDK \\preceq 0$. From here, one can conclude that a matrix $D\\in\\mathbb{R}^{n\\times n}$ is an Euclidean distance matrix if and only if\n",
    "\n",
    "$$ D_{ii} = 0, \\quad D_{ij}=D_{ji}, \\quad KDK \\preceq 0.$$"
   ]
  },
  {
   "cell_type": "markdown",
   "metadata": {},
   "source": [
    "(f) **[10 points]** Use part (e) to prove that the set \n",
    "\n",
    "$$\\{D\\in\\mathbb{R}^{n\\times n} \\:\\mid\\:D\\;\\text{is a Euclidean distance matrix}\\},$$ \n",
    "\n",
    "is a convex cone.\n",
    "\n",
    "[Comment: this is perhaps surprising given the conclusion in part (a).]"
   ]
  },
  {
   "cell_type": "markdown",
   "metadata": {},
   "source": [
    "(g) **[5+5+5=15 points]** From practical experiment, suppose $\\Delta\\in\\mathbb{R}^{n\\times n}$ is a matrix of **noisy** pairwise distance measurements. Then, one wishes to solve the following problem for determining the true Euclidean distance matrix $D$ with embedding dimension at most $r$, given by\n",
    "\n",
    "$$\\begin{align}\n",
    "&\\underset{D\\in\\mathbb{R}^{n\\times n}}{\\text{minimize}}\\quad \\parallel D - \\Delta\\parallel_{\\text{Frobenius}}^{2}\\\\\n",
    "&\\text{subject to}\\quad D = D^{\\top},\\\\\n",
    "& \\;\\qquad\\qquad D_{ii} = 0, \\; i=1,...,n,\\\\\n",
    "& \\qquad\\qquad\\, KDK \\preceq 0,\\\\\n",
    "& \\qquad\\qquad\\,\\text{rank}(KDK) \\leq r.\n",
    "\\end{align}$$\n",
    "\n",
    "Is the above optimization problem convex? Why/why not? If it is a convex problem, then what type of convex problem is it? If not, give a simple convex relaxation of this problem.\n",
    "\n",
    "[Comment: Once $D$ is obtained by solving the above, the point configuration $X$ can be estimated by methods such as \"multi-dimensional scaling\". We will not pursue that here.]"
   ]
  },
  {
   "cell_type": "markdown",
   "metadata": {
    "collapsed": true
   },
   "source": [
    "## Problem 2. (30 points) SDP Revisited "
   ]
  },
  {
   "cell_type": "markdown",
   "metadata": {},
   "source": [
    "Consider the following SDP:\n",
    "\n",
    "$$\\begin{align}\n",
    "p^{*} \\quad = \\quad &\\underset{(x_{1},x_{2})\\in\\mathbb{R}^{2}}{\\text{minimize}}\\quad x_{1}\\\\\n",
    "&\\text{subject to} \\quad \\begin{pmatrix} 0 & x_{1} & 0\\\\\n",
    "x_{1} & x_{2} & 0\\\\\n",
    "0 & 0 & x_{1}+1\\end{pmatrix} \\succeq 0.\n",
    "\\end{align}$$"
   ]
  },
  {
   "cell_type": "markdown",
   "metadata": {},
   "source": [
    "(a) **[10 points]** Analytically (by hand) compute the optimal value $p^{*}$."
   ]
  },
  {
   "cell_type": "markdown",
   "metadata": {},
   "source": [
    "(b) **[10 points]** Derive the dual problem corresponding to the above SDP. \n",
    "\n",
    "(Hint: See Lecture 12, p. 23-25.)"
   ]
  },
  {
   "cell_type": "markdown",
   "metadata": {},
   "source": [
    "(c) **[10 points]** By computing (analytically, or by cvxpy, whichever you prefer) the optimal value $d^{*}$ for the dual problem derived in part (b), find the duality gap $(p^{*} - d^{*})$."
   ]
  },
  {
   "cell_type": "code",
   "execution_count": null,
   "metadata": {
    "collapsed": true
   },
   "outputs": [],
   "source": []
  }
 ],
 "metadata": {
  "kernelspec": {
   "display_name": "Python 2",
   "language": "python",
   "name": "python2"
  },
  "language_info": {
   "codemirror_mode": {
    "name": "ipython",
    "version": 2
   },
   "file_extension": ".py",
   "mimetype": "text/x-python",
   "name": "python",
   "nbconvert_exporter": "python",
   "pygments_lexer": "ipython2",
   "version": "2.7.14"
  }
 },
 "nbformat": 4,
 "nbformat_minor": 2
}
